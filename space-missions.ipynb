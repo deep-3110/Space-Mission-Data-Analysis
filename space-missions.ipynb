{
 "cells": [
  {
   "cell_type": "markdown",
   "metadata": {
    "papermill": {
     "duration": 0.029986,
     "end_time": "2020-10-31T11:47:14.081787",
     "exception": false,
     "start_time": "2020-10-31T11:47:14.051801",
     "status": "completed"
    },
    "tags": []
   },
   "source": [
    "## Space Missions Data Analysis\n",
    "This notebook is divided into:\n",
    "\n",
    "- Data manipulation\n",
    "\n",
    "- Study about the cost of the missions (fail)\n",
    "\n",
    "- Study abount the collaboration between companies (fail)\n",
    "\n",
    "- Launches until first success"
   ]
  },
  {
   "cell_type": "code",
   "execution_count": 6,
   "metadata": {
    "_cell_guid": "b1076dfc-b9ad-4769-8c92-a6c4dae69d19",
    "_uuid": "8f2839f25d086af736a60e9eeb907d3b93b6e0e5",
    "execution": {
     "iopub.execute_input": "2020-10-31T11:47:14.157316Z",
     "iopub.status.busy": "2020-10-31T11:47:14.156159Z",
     "iopub.status.idle": "2020-10-31T11:47:15.266452Z",
     "shell.execute_reply": "2020-10-31T11:47:15.267332Z"
    },
    "papermill": {
     "duration": 1.155547,
     "end_time": "2020-10-31T11:47:15.267565",
     "exception": false,
     "start_time": "2020-10-31T11:47:14.112018",
     "status": "completed"
    },
    "tags": []
   },
   "outputs": [
    {
     "data": {
      "text/html": [
       "<div>\n",
       "<style scoped>\n",
       "    .dataframe tbody tr th:only-of-type {\n",
       "        vertical-align: middle;\n",
       "    }\n",
       "\n",
       "    .dataframe tbody tr th {\n",
       "        vertical-align: top;\n",
       "    }\n",
       "\n",
       "    .dataframe thead th {\n",
       "        text-align: right;\n",
       "    }\n",
       "</style>\n",
       "<table border=\"1\" class=\"dataframe\">\n",
       "  <thead>\n",
       "    <tr style=\"text-align: right;\">\n",
       "      <th></th>\n",
       "      <th>Unnamed: 0</th>\n",
       "      <th>Unnamed: 0.1</th>\n",
       "      <th>Company Name</th>\n",
       "      <th>Location</th>\n",
       "      <th>Datum</th>\n",
       "      <th>Detail</th>\n",
       "      <th>Status Rocket</th>\n",
       "      <th>Rocket</th>\n",
       "      <th>Status Mission</th>\n",
       "    </tr>\n",
       "  </thead>\n",
       "  <tbody>\n",
       "    <tr>\n",
       "      <th>0</th>\n",
       "      <td>0</td>\n",
       "      <td>0</td>\n",
       "      <td>SpaceX</td>\n",
       "      <td>LC-39A, Kennedy Space Center, Florida, USA</td>\n",
       "      <td>Fri Aug 07, 2020 05:12 UTC</td>\n",
       "      <td>Falcon 9 Block 5 | Starlink V1 L9 &amp; BlackSky</td>\n",
       "      <td>StatusActive</td>\n",
       "      <td>50.0</td>\n",
       "      <td>Success</td>\n",
       "    </tr>\n",
       "    <tr>\n",
       "      <th>1</th>\n",
       "      <td>1</td>\n",
       "      <td>1</td>\n",
       "      <td>CASC</td>\n",
       "      <td>Site 9401 (SLS-2), Jiuquan Satellite Launch Ce...</td>\n",
       "      <td>Thu Aug 06, 2020 04:01 UTC</td>\n",
       "      <td>Long March 2D | Gaofen-9 04 &amp; Q-SAT</td>\n",
       "      <td>StatusActive</td>\n",
       "      <td>29.75</td>\n",
       "      <td>Success</td>\n",
       "    </tr>\n",
       "    <tr>\n",
       "      <th>2</th>\n",
       "      <td>2</td>\n",
       "      <td>2</td>\n",
       "      <td>SpaceX</td>\n",
       "      <td>Pad A, Boca Chica, Texas, USA</td>\n",
       "      <td>Tue Aug 04, 2020 23:57 UTC</td>\n",
       "      <td>Starship Prototype | 150 Meter Hop</td>\n",
       "      <td>StatusActive</td>\n",
       "      <td>NaN</td>\n",
       "      <td>Success</td>\n",
       "    </tr>\n",
       "    <tr>\n",
       "      <th>3</th>\n",
       "      <td>3</td>\n",
       "      <td>3</td>\n",
       "      <td>Roscosmos</td>\n",
       "      <td>Site 200/39, Baikonur Cosmodrome, Kazakhstan</td>\n",
       "      <td>Thu Jul 30, 2020 21:25 UTC</td>\n",
       "      <td>Proton-M/Briz-M | Ekspress-80 &amp; Ekspress-103</td>\n",
       "      <td>StatusActive</td>\n",
       "      <td>65.0</td>\n",
       "      <td>Success</td>\n",
       "    </tr>\n",
       "    <tr>\n",
       "      <th>4</th>\n",
       "      <td>4</td>\n",
       "      <td>4</td>\n",
       "      <td>ULA</td>\n",
       "      <td>SLC-41, Cape Canaveral AFS, Florida, USA</td>\n",
       "      <td>Thu Jul 30, 2020 11:50 UTC</td>\n",
       "      <td>Atlas V 541 | Perseverance</td>\n",
       "      <td>StatusActive</td>\n",
       "      <td>145.0</td>\n",
       "      <td>Success</td>\n",
       "    </tr>\n",
       "  </tbody>\n",
       "</table>\n",
       "</div>"
      ],
      "text/plain": [
       "   Unnamed: 0  Unnamed: 0.1 Company Name  \\\n",
       "0           0             0       SpaceX   \n",
       "1           1             1         CASC   \n",
       "2           2             2       SpaceX   \n",
       "3           3             3    Roscosmos   \n",
       "4           4             4          ULA   \n",
       "\n",
       "                                            Location  \\\n",
       "0         LC-39A, Kennedy Space Center, Florida, USA   \n",
       "1  Site 9401 (SLS-2), Jiuquan Satellite Launch Ce...   \n",
       "2                      Pad A, Boca Chica, Texas, USA   \n",
       "3       Site 200/39, Baikonur Cosmodrome, Kazakhstan   \n",
       "4           SLC-41, Cape Canaveral AFS, Florida, USA   \n",
       "\n",
       "                        Datum                                        Detail  \\\n",
       "0  Fri Aug 07, 2020 05:12 UTC  Falcon 9 Block 5 | Starlink V1 L9 & BlackSky   \n",
       "1  Thu Aug 06, 2020 04:01 UTC           Long March 2D | Gaofen-9 04 & Q-SAT   \n",
       "2  Tue Aug 04, 2020 23:57 UTC            Starship Prototype | 150 Meter Hop   \n",
       "3  Thu Jul 30, 2020 21:25 UTC  Proton-M/Briz-M | Ekspress-80 & Ekspress-103   \n",
       "4  Thu Jul 30, 2020 11:50 UTC                    Atlas V 541 | Perseverance   \n",
       "\n",
       "  Status Rocket  Rocket Status Mission  \n",
       "0  StatusActive   50.0         Success  \n",
       "1  StatusActive  29.75         Success  \n",
       "2  StatusActive     NaN        Success  \n",
       "3  StatusActive   65.0         Success  \n",
       "4  StatusActive  145.0         Success  "
      ]
     },
     "execution_count": 6,
     "metadata": {},
     "output_type": "execute_result"
    }
   ],
   "source": [
    "\n",
    "import numpy as np # linear algebra\n",
    "import pandas as pd # data processing, CSV file I/O (e.g. pd.read_csv)\n",
    "\n",
    "#data type\n",
    "from datetime import datetime\n",
    "\n",
    "#for plots\n",
    "pd.plotting.register_matplotlib_converters()\n",
    "import matplotlib.pyplot as plt\n",
    "#%matplotlib inline\n",
    "import seaborn as sns\n",
    "\n",
    "\n",
    "        \n",
    "        \n",
    "Space_data = pd.read_csv(\"./Space_Corrected.csv\")\n",
    "Space_data.head()       "
   ]
  },
  {
   "cell_type": "markdown",
   "metadata": {
    "papermill": {
     "duration": 0.02931,
     "end_time": "2020-10-31T11:47:15.327997",
     "exception": false,
     "start_time": "2020-10-31T11:47:15.298687",
     "status": "completed"
    },
    "tags": []
   },
   "source": [
    "## Data manipulation\n",
    "\n",
    "First I'm going to make a little data treatment.\n",
    "\n",
    "Location:\n",
    "\n",
    "I'm going to find the country where the missil is launched from the last part of the column Location. It's not allways true, but we can make an idea of wich countries have their own missiles."
   ]
  },
  {
   "cell_type": "code",
   "execution_count": 7,
   "metadata": {
    "execution": {
     "iopub.execute_input": "2020-10-31T11:47:15.413119Z",
     "iopub.status.busy": "2020-10-31T11:47:15.407837Z",
     "iopub.status.idle": "2020-10-31T11:47:15.483170Z",
     "shell.execute_reply": "2020-10-31T11:47:15.482364Z"
    },
    "papermill": {
     "duration": 0.125807,
     "end_time": "2020-10-31T11:47:15.483337",
     "exception": false,
     "start_time": "2020-10-31T11:47:15.357530",
     "status": "completed"
    },
    "tags": []
   },
   "outputs": [],
   "source": [
    "country=[]\n",
    "for i in range(0,Space_data.shape[0]):\n",
    "    str=Space_data['Location'].iloc[i]\n",
    "    str_by_parts=str.split(\",\")\n",
    "    country.append(str_by_parts[len(str_by_parts)-1].strip())\n",
    "\n",
    "Space_data['Country'] = country"
   ]
  },
  {
   "cell_type": "markdown",
   "metadata": {
    "papermill": {
     "duration": 0.032269,
     "end_time": "2020-10-31T11:47:15.545958",
     "exception": false,
     "start_time": "2020-10-31T11:47:15.513689",
     "status": "completed"
    },
    "tags": []
   },
   "source": [
    "Datum:\n",
    "\n",
    "From Datum create Date and Year, but later I will only take in to account the Year."
   ]
  },
  {
   "cell_type": "code",
   "execution_count": 8,
   "metadata": {
    "execution": {
     "iopub.execute_input": "2020-10-31T11:47:15.635476Z",
     "iopub.status.busy": "2020-10-31T11:47:15.614660Z",
     "iopub.status.idle": "2020-10-31T11:47:15.786349Z",
     "shell.execute_reply": "2020-10-31T11:47:15.785523Z"
    },
    "papermill": {
     "duration": 0.210575,
     "end_time": "2020-10-31T11:47:15.786478",
     "exception": false,
     "start_time": "2020-10-31T11:47:15.575903",
     "status": "completed"
    },
    "tags": []
   },
   "outputs": [],
   "source": [
    "date=[]\n",
    "time=[]\n",
    "year=[]\n",
    "for i in range(0,Space_data.shape[0]):\n",
    "    str=Space_data['Datum'].iloc[i]\n",
    "    day=str[:3]\n",
    "    mm=str[4:7]\n",
    "    dd=str[8:10]\n",
    "    aaaa=str[12:16]\n",
    "    hh_mm=str[17:22]\n",
    "    str = dd+'/'+mm+'/'+aaaa\n",
    "    date_object = datetime.strptime(str, '%d/%b/%Y')\n",
    "    date.append(date_object)\n",
    "    year.append(aaaa)\n",
    "\n",
    "\n",
    "Space_data['Date'] = date\n",
    "Space_data['Year'] = year\n",
    "\n",
    "# Convert to numeric (the column was a string)\n",
    "Space_data['Year']=pd.to_numeric(Space_data.Year)"
   ]
  },
  {
   "cell_type": "markdown",
   "metadata": {
    "papermill": {
     "duration": 0.029684,
     "end_time": "2020-10-31T11:47:15.846597",
     "exception": false,
     "start_time": "2020-10-31T11:47:15.816913",
     "status": "completed"
    },
    "tags": []
   },
   "source": [
    "Status Rocket:\n",
    "\n",
    "I just convert it into a numeric value."
   ]
  },
  {
   "cell_type": "code",
   "execution_count": 9,
   "metadata": {
    "execution": {
     "iopub.execute_input": "2020-10-31T11:47:15.916280Z",
     "iopub.status.busy": "2020-10-31T11:47:15.915240Z",
     "iopub.status.idle": "2020-10-31T11:47:15.918604Z",
     "shell.execute_reply": "2020-10-31T11:47:15.917840Z"
    },
    "papermill": {
     "duration": 0.042134,
     "end_time": "2020-10-31T11:47:15.918736",
     "exception": false,
     "start_time": "2020-10-31T11:47:15.876602",
     "status": "completed"
    },
    "tags": []
   },
   "outputs": [],
   "source": [
    "status_mapping={'StatusRetired':0,'StatusActive':1}\n",
    "\n",
    "Space_data['Status Rocket']=Space_data['Status Rocket'].map(status_mapping)"
   ]
  },
  {
   "cell_type": "markdown",
   "metadata": {
    "papermill": {
     "duration": 0.030597,
     "end_time": "2020-10-31T11:47:15.980202",
     "exception": false,
     "start_time": "2020-10-31T11:47:15.949605",
     "status": "completed"
    },
    "tags": []
   },
   "source": [
    "Rocket: cost of the mission in $ million"
   ]
  },
  {
   "cell_type": "code",
   "execution_count": 10,
   "metadata": {
    "_cell_guid": "79c7e3d0-c299-4dcb-8224-4455121ee9b0",
    "_uuid": "d629ff2d2480ee46fbb7e2d37f6b5fab8052498a",
    "execution": {
     "iopub.execute_input": "2020-10-31T11:47:16.059053Z",
     "iopub.status.busy": "2020-10-31T11:47:16.058298Z",
     "iopub.status.idle": "2020-10-31T11:47:16.062133Z",
     "shell.execute_reply": "2020-10-31T11:47:16.061347Z"
    },
    "papermill": {
     "duration": 0.051286,
     "end_time": "2020-10-31T11:47:16.062261",
     "exception": false,
     "start_time": "2020-10-31T11:47:16.010975",
     "status": "completed"
    },
    "tags": []
   },
   "outputs": [],
   "source": [
    "# There are spaces after the data \n",
    "Space_data['Rocket']=Space_data[' Rocket'].str.strip()\n",
    "\n",
    "# The thousands mark is a comma\n",
    "Space_data['Rocket'] = Space_data['Rocket'].str.replace(',','')\n",
    "\n",
    "# There are nans, so I fill with 0. \n",
    "Space_data['Rocket'] = Space_data['Rocket'].fillna(0)\n",
    "\n",
    "# Convert to numeric (the column was a string)\n",
    "Space_data['Rocket']=pd.to_numeric(Space_data.Rocket)"
   ]
  },
  {
   "cell_type": "markdown",
   "metadata": {
    "papermill": {
     "duration": 0.03224,
     "end_time": "2020-10-31T11:47:16.125509",
     "exception": false,
     "start_time": "2020-10-31T11:47:16.093269",
     "status": "completed"
    },
    "tags": []
   },
   "source": [
    "## Cost of the missions\n",
    "\n",
    "Having data of the Space Missions since 1958, I thought it was interesting to study the investment done from the Western Bloc and the Eastern Bloc. \n",
    "Althought we don't have the column in the dataset that distinguishes one from another, we can find that information on the internet:\n",
    "\n",
    "https://en.wikipedia.org/wiki/Western_Bloc\n",
    "\n",
    "https://en.wikipedia.org/wiki/Eastern_Bloc\n",
    "\n",
    "The problem that I had to study this is that many of the ussr data don't have this information."
   ]
  },
  {
   "cell_type": "markdown",
   "metadata": {
    "papermill": {
     "duration": 0.030278,
     "end_time": "2020-10-31T11:47:16.186246",
     "exception": false,
     "start_time": "2020-10-31T11:47:16.155968",
     "status": "completed"
    },
    "tags": []
   },
   "source": [
    "Plot a histogram by countries to make an idea of wich contributes more or less."
   ]
  },
  {
   "cell_type": "code",
   "execution_count": 11,
   "metadata": {
    "execution": {
     "iopub.execute_input": "2020-10-31T11:47:16.254465Z",
     "iopub.status.busy": "2020-10-31T11:47:16.253637Z",
     "iopub.status.idle": "2020-10-31T11:47:16.596953Z",
     "shell.execute_reply": "2020-10-31T11:47:16.596223Z"
    },
    "papermill": {
     "duration": 0.380413,
     "end_time": "2020-10-31T11:47:16.597133",
     "exception": false,
     "start_time": "2020-10-31T11:47:16.216720",
     "status": "completed"
    },
    "tags": []
   },
   "outputs": [
    {
     "data": {
      "image/png": "[encoded data removed]",
      "text/plain": [
       "<Figure size 576x576 with 1 Axes>"
      ]
     },
     "metadata": {
      "needs_background": "light"
     },
     "output_type": "display_data"
    }
   ],
   "source": [
    "# Set the width and height of the figure\n",
    "plt.figure(figsize=(8,8))\n",
    "plt.title(\"Space Missions of each country\")\n",
    "sns.countplot(y=\"Country\", data=Space_data, order=Space_data[\"Country\"].value_counts().index);\n"
   ]
  },
  {
   "cell_type": "markdown",
   "metadata": {
    "papermill": {
     "duration": 0.031591,
     "end_time": "2020-10-31T11:47:16.660763",
     "exception": false,
     "start_time": "2020-10-31T11:47:16.629172",
     "status": "completed"
    },
    "tags": []
   },
   "source": [
    "We can see how Russia is the country that more launches has done in history. But in fact, during the Cold War, Russia was a part of the USSR as it was Kazakhstan\n",
    "\n",
    "https://en.wikipedia.org/wiki/Kazakh_Soviet_Socialist_Republic\n",
    "\n",
    "So, from the point of view of the economic investment during the Cold War, we should include Kazakhstan. In fact, the Sputnik (the first artificial satellite of the USSR and of the world) was launched from Kazakhstan.\n",
    "\n",
    "I'm going to plot every company (not country) taking into account if we know the investment or not. "
   ]
  },
  {
   "cell_type": "code",
   "execution_count": 12,
   "metadata": {
    "execution": {
     "iopub.execute_input": "2020-10-31T11:47:16.737731Z",
     "iopub.status.busy": "2020-10-31T11:47:16.736792Z",
     "iopub.status.idle": "2020-10-31T11:47:17.665521Z",
     "shell.execute_reply": "2020-10-31T11:47:17.664739Z"
    },
    "papermill": {
     "duration": 0.972838,
     "end_time": "2020-10-31T11:47:17.665654",
     "exception": false,
     "start_time": "2020-10-31T11:47:16.692816",
     "status": "completed"
    },
    "tags": []
   },
   "outputs": [
    {
     "data": {
      "text/plain": [
       "Text(0.5, 1.0, 'Cost of the missions')"
      ]
     },
     "execution_count": 12,
     "metadata": {},
     "output_type": "execute_result"
    },
    {
     "data": {
      "image/png": "[encoded data removed]",
      "text/plain": [
       "<Figure size 1080x576 with 1 Axes>"
      ]
     },
     "metadata": {},
     "output_type": "display_data"
    }
   ],
   "source": [
    "mask_0=Space_data.Rocket==0\n",
    "\n",
    "import seaborn as sns\n",
    "import matplotlib.pyplot as plt\n",
    "\n",
    "# Initialize the matplotlib figure\n",
    "sns.set_style(style=\"whitegrid\")\n",
    "f,ax = plt.subplots(figsize=(15,8))\n",
    "\n",
    "# Plot the total missions\n",
    "sns.set_color_codes(palette=\"bright\")\n",
    "sns.countplot(y=\"Company Name\", data=Space_data,\n",
    "            label=\"Total Missions\", color=\"b\");\n",
    "# Plot missions where we don't know the cost\n",
    "sns.countplot(y=\"Company Name\", data=Space_data[mask_0],\n",
    "            label=\"Missions Without Cost\", color=\"r\");\n",
    "\n",
    "# Add a legend and informative axis label\n",
    "ax.legend(ncol=1, loc=\"lower right\", frameon=True)\n",
    "ax.set(ylabel=\"\",xlabel=\"Number of missions\")\n",
    "sns.despine(left=True, bottom=True)\n",
    "plt.title(\"Cost of the missions\")"
   ]
  },
  {
   "cell_type": "markdown",
   "metadata": {
    "papermill": {
     "duration": 0.034093,
     "end_time": "2020-10-31T11:47:17.734349",
     "exception": false,
     "start_time": "2020-10-31T11:47:17.700256",
     "status": "completed"
    },
    "tags": []
   },
   "source": [
    "We can see how in our dataset we don't have all the investment from the USSR company during all the Cold War.\n",
    "\n",
    "From the dissolution of the USSR, in 1991, Russia has it's own company, Rocosmos. \n",
    "\n",
    "https://en.wikipedia.org/wiki/Roscosmos\n",
    "\n",
    "In this company we have most of the information about their investment, but there are much less information than during all the cold war. \n",
    "\n",
    "If we plot again but after the end of the Cold War (aproximately 1991), we still find an important lack of information about the cost of the missions."
   ]
  },
  {
   "cell_type": "code",
   "execution_count": 13,
   "metadata": {
    "execution": {
     "iopub.execute_input": "2020-10-31T11:47:17.910237Z",
     "iopub.status.busy": "2020-10-31T11:47:17.817667Z",
     "iopub.status.idle": "2020-10-31T11:47:18.606544Z",
     "shell.execute_reply": "2020-10-31T11:47:18.605843Z"
    },
    "papermill": {
     "duration": 0.837254,
     "end_time": "2020-10-31T11:47:18.606667",
     "exception": false,
     "start_time": "2020-10-31T11:47:17.769413",
     "status": "completed"
    },
    "tags": []
   },
   "outputs": [
    {
     "data": {
      "image/png": "[encoded data removed]",
      "text/plain": [
       "<Figure size 576x576 with 1 Axes>"
      ]
     },
     "metadata": {},
     "output_type": "display_data"
    }
   ],
   "source": [
    "mask_0=Space_data.Rocket==0\n",
    "mask_1991=Space_data.Year>=1991\n",
    "\n",
    "\n",
    "import seaborn as sns\n",
    "import matplotlib.pyplot as plt\n",
    "\n",
    "sns.set_style(style=\"darkgrid\")\n",
    "\n",
    "# Initialize the matplotlib figure\n",
    "f,ax = plt.subplots(figsize=(8,8))\n",
    "\n",
    "# Plot the total missions\n",
    "sns.set_color_codes(palette=\"muted\")\n",
    "sns.countplot(y=\"Company Name\", data=Space_data,\n",
    "            label=\"Total Missions\", color=\"b\");\n",
    "sns.countplot(y=\"Company Name\", data=Space_data[mask_0&mask_1991],\n",
    "            label=\"Missions Without Cost\", color=\"r\");\n",
    "\n",
    "\n",
    "# Add a legend and informative axis label\n",
    "ax.legend(ncol=1, loc=\"lower right\", frameon=True)\n",
    "ax.set(ylabel=\"\",\n",
    "       xlabel=\"Number of missions\")\n",
    "sns.despine(left=True, bottom=True)"
   ]
  },
  {
   "cell_type": "markdown",
   "metadata": {
    "papermill": {
     "duration": 0.035884,
     "end_time": "2020-10-31T11:47:18.678834",
     "exception": false,
     "start_time": "2020-10-31T11:47:18.642950",
     "status": "completed"
    },
    "tags": []
   },
   "source": [
    "## Collaboration between companies\n",
    "\n",
    "To study the collaborations between different companies in the same missions, I'm going to look up for registers of missions with two or more companies. \n",
    "\n",
    "To do that, first I capture the number of times that a Detail appears for different Companies. Then I print the registers that appear more than one time."
   ]
  },
  {
   "cell_type": "code",
   "execution_count": 14,
   "metadata": {
    "execution": {
     "iopub.execute_input": "2020-10-31T11:47:18.761334Z",
     "iopub.status.busy": "2020-10-31T11:47:18.760264Z",
     "iopub.status.idle": "2020-10-31T11:47:18.818661Z",
     "shell.execute_reply": "2020-10-31T11:47:18.817893Z"
    },
    "papermill": {
     "duration": 0.103562,
     "end_time": "2020-10-31T11:47:18.818783",
     "exception": false,
     "start_time": "2020-10-31T11:47:18.715221",
     "status": "completed"
    },
    "tags": []
   },
   "outputs": [
    {
     "data": {
      "text/html": [
       "<div>\n",
       "<style scoped>\n",
       "    .dataframe tbody tr th:only-of-type {\n",
       "        vertical-align: middle;\n",
       "    }\n",
       "\n",
       "    .dataframe tbody tr th {\n",
       "        vertical-align: top;\n",
       "    }\n",
       "\n",
       "    .dataframe thead th {\n",
       "        text-align: right;\n",
       "    }\n",
       "</style>\n",
       "<table border=\"1\" class=\"dataframe\">\n",
       "  <thead>\n",
       "    <tr style=\"text-align: right;\">\n",
       "      <th></th>\n",
       "      <th>Company Name</th>\n",
       "      <th>Detail</th>\n",
       "      <th>Year</th>\n",
       "    </tr>\n",
       "  </thead>\n",
       "  <tbody>\n",
       "    <tr>\n",
       "      <th>1558</th>\n",
       "      <td>Martin Marietta</td>\n",
       "      <td>Titan IV(401)A | Mercury</td>\n",
       "      <td>1994</td>\n",
       "    </tr>\n",
       "    <tr>\n",
       "      <th>1448</th>\n",
       "      <td>Lockheed</td>\n",
       "      <td>Titan IV(401)A | Mercury</td>\n",
       "      <td>1996</td>\n",
       "    </tr>\n",
       "    <tr>\n",
       "      <th>1576</th>\n",
       "      <td>Martin Marietta</td>\n",
       "      <td>Titan IV(401)A | Trumpet</td>\n",
       "      <td>1994</td>\n",
       "    </tr>\n",
       "    <tr>\n",
       "      <th>1500</th>\n",
       "      <td>Lockheed</td>\n",
       "      <td>Titan IV(401)A | Trumpet</td>\n",
       "      <td>1995</td>\n",
       "    </tr>\n",
       "    <tr>\n",
       "      <th>1663</th>\n",
       "      <td>Martin Marietta</td>\n",
       "      <td>Titan IV(404)A | KH-11 Kennen</td>\n",
       "      <td>1992</td>\n",
       "    </tr>\n",
       "    <tr>\n",
       "      <th>1475</th>\n",
       "      <td>Lockheed</td>\n",
       "      <td>Titan IV(404)A | KH-11 Kennen</td>\n",
       "      <td>1995</td>\n",
       "    </tr>\n",
       "  </tbody>\n",
       "</table>\n",
       "</div>"
      ],
      "text/plain": [
       "         Company Name                         Detail  Year\n",
       "1558  Martin Marietta       Titan IV(401)A | Mercury  1994\n",
       "1448         Lockheed       Titan IV(401)A | Mercury  1996\n",
       "1576  Martin Marietta       Titan IV(401)A | Trumpet  1994\n",
       "1500         Lockheed       Titan IV(401)A | Trumpet  1995\n",
       "1663  Martin Marietta  Titan IV(404)A | KH-11 Kennen  1992\n",
       "1475         Lockheed  Titan IV(404)A | KH-11 Kennen  1995"
      ]
     },
     "execution_count": 14,
     "metadata": {},
     "output_type": "execute_result"
    }
   ],
   "source": [
    "counts=Space_data.groupby('Detail')['Company Name'].transform('nunique')\n",
    "\n",
    "ind=[]\n",
    "for i in range(0,counts.shape[0]):\n",
    "    if counts[i]>1:\n",
    "        ind.append(i)\n",
    "\n",
    "Space_data.loc[ind,['Company Name','Detail','Year']].sort_values('Year').sort_values('Detail')\n"
   ]
  },
  {
   "cell_type": "markdown",
   "metadata": {
    "papermill": {
     "duration": 0.036558,
     "end_time": "2020-10-31T11:47:18.892451",
     "exception": false,
     "start_time": "2020-10-31T11:47:18.855893",
     "status": "completed"
    },
    "tags": []
   },
   "source": [
    "This mission Titan is the only one in all the dataset in wich contributes more than one Company. \n",
    "\n",
    "But if we look into the internet, that in 1995 Martin Marietta fussions with Lockheed Corporation to create Lockheed Martin, so this missions don't represent no collaboration. \n",
    "\n",
    "https://en.wikipedia.org/wiki/Lockheed_Martin\n",
    "\n",
    "We can find collaborations between agencies, for example\n",
    "\n",
    "https://www.esa.int/Science_Exploration/Space_Science/Cassini-Huygens/International_collaboration#:~:text=Cassini-Huygens%20is%20an%20international%20collaboration%20between%20three%20space,Laboratory.%20The%20Huygens%20probe%20was%20built%20by%20ESA.\n",
    "\n",
    "In fact, if I look in the dataste for Cassini, I find one row\n"
   ]
  },
  {
   "cell_type": "code",
   "execution_count": 15,
   "metadata": {
    "execution": {
     "iopub.execute_input": "2020-10-31T11:47:18.981352Z",
     "iopub.status.busy": "2020-10-31T11:47:18.980205Z",
     "iopub.status.idle": "2020-10-31T11:47:18.984832Z",
     "shell.execute_reply": "2020-10-31T11:47:18.984241Z"
    },
    "papermill": {
     "duration": 0.055233,
     "end_time": "2020-10-31T11:47:18.984963",
     "exception": false,
     "start_time": "2020-10-31T11:47:18.929730",
     "status": "completed"
    },
    "tags": []
   },
   "outputs": [
    {
     "data": {
      "text/plain": [
       "Unnamed: 0                                            1360\n",
       "Unnamed: 0.1                                          1360\n",
       "Company Name                                      Lockheed\n",
       "Location          SLC-40, Cape Canaveral AFS, Florida, USA\n",
       "Datum                           Wed Oct 15, 1997 08:43 UTC\n",
       "Detail                  Titan IV(401)B | Cassini???Huygens\n",
       "Status Rocket                                            0\n",
       " Rocket                                                NaN\n",
       "Status Mission                                     Success\n",
       "Country                                                USA\n",
       "Date                                   1997-10-15 00:00:00\n",
       "Year                                                  1997\n",
       "Rocket                                                 0.0\n",
       "Name: 1360, dtype: object"
      ]
     },
     "execution_count": 15,
     "metadata": {},
     "output_type": "execute_result"
    }
   ],
   "source": [
    "maskC=Space_data['Detail'].str.contains('Cassini', regex=False)\n",
    "Space_data[maskC]\n",
    "\n",
    "Space_data.loc[1360,:]"
   ]
  },
  {
   "cell_type": "markdown",
   "metadata": {
    "papermill": {
     "duration": 0.037191,
     "end_time": "2020-10-31T11:47:19.060212",
     "exception": false,
     "start_time": "2020-10-31T11:47:19.023021",
     "status": "completed"
    },
    "tags": []
   },
   "source": [
    "I think the Dataset contains the information about the launch done by Lockheed. But ESA built the Huygens probe, and ASI provided Cassini's high-gain communication antenna. \n",
    "\n",
    "So, there is a collaboration between three companies, but the rocket launch is done just by one of them. That's why it doesn't appear in the dataset as I expected.\n",
    "\n",
    "We also know that there has been at least one collaboration between USA and USSR, \n",
    "\n",
    "https://es.wikipedia.org/wiki/Programa_Apolo\n",
    "\n",
    "The last Apolo Mission was the Apolo-Soyuz\n"
   ]
  },
  {
   "cell_type": "code",
   "execution_count": 16,
   "metadata": {
    "execution": {
     "iopub.execute_input": "2020-10-31T11:47:19.144778Z",
     "iopub.status.busy": "2020-10-31T11:47:19.143848Z",
     "iopub.status.idle": "2020-10-31T11:47:19.149642Z",
     "shell.execute_reply": "2020-10-31T11:47:19.148860Z"
    },
    "papermill": {
     "duration": 0.052056,
     "end_time": "2020-10-31T11:47:19.149782",
     "exception": false,
     "start_time": "2020-10-31T11:47:19.097726",
     "status": "completed"
    },
    "tags": []
   },
   "outputs": [
    {
     "data": {
      "text/plain": [
       "Unnamed: 0                                                  2911\n",
       "Unnamed: 0.1                                                2911\n",
       "Company Name                                                NASA\n",
       "Location              LC-39B, Kennedy Space Center, Florida, USA\n",
       "Datum                                 Tue Jul 15, 1975 19:50 UTC\n",
       "Detail            Saturn IB | ASTP (Apollo???Soyuz Test Project)\n",
       "Status Rocket                                                  0\n",
       " Rocket                                                      NaN\n",
       "Status Mission                                           Success\n",
       "Country                                                      USA\n",
       "Date                                         1975-07-15 00:00:00\n",
       "Year                                                        1975\n",
       "Rocket                                                       0.0\n",
       "Name: 2911, dtype: object"
      ]
     },
     "execution_count": 16,
     "metadata": {},
     "output_type": "execute_result"
    }
   ],
   "source": [
    "Space_data.loc[2911,:]"
   ]
  },
  {
   "cell_type": "code",
   "execution_count": 17,
   "metadata": {
    "execution": {
     "iopub.execute_input": "2020-10-31T11:47:19.236765Z",
     "iopub.status.busy": "2020-10-31T11:47:19.235700Z",
     "iopub.status.idle": "2020-10-31T11:47:19.239387Z",
     "shell.execute_reply": "2020-10-31T11:47:19.240011Z"
    },
    "papermill": {
     "duration": 0.051544,
     "end_time": "2020-10-31T11:47:19.240194",
     "exception": false,
     "start_time": "2020-10-31T11:47:19.188650",
     "status": "completed"
    },
    "tags": []
   },
   "outputs": [
    {
     "data": {
      "text/plain": [
       "Unnamed: 0                                             2912\n",
       "Unnamed: 0.1                                           2912\n",
       "Company Name                                      RVSN USSR\n",
       "Location          Site 1/5, Baikonur Cosmodrome, Kazakhstan\n",
       "Datum                            Tue Jul 15, 1975 12:20 UTC\n",
       "Detail                    Soyuz U | Soyuz 19 (Apollo-Soyuz)\n",
       "Status Rocket                                             0\n",
       " Rocket                                                 NaN\n",
       "Status Mission                                      Success\n",
       "Country                                          Kazakhstan\n",
       "Date                                    1975-07-15 00:00:00\n",
       "Year                                                   1975\n",
       "Rocket                                                  0.0\n",
       "Name: 2912, dtype: object"
      ]
     },
     "execution_count": 17,
     "metadata": {},
     "output_type": "execute_result"
    }
   ],
   "source": [
    "Space_data.loc[2912,:]"
   ]
  },
  {
   "cell_type": "markdown",
   "metadata": {
    "papermill": {
     "duration": 0.037629,
     "end_time": "2020-10-31T11:47:19.316459",
     "exception": false,
     "start_time": "2020-10-31T11:47:19.278830",
     "status": "completed"
    },
    "tags": []
   },
   "source": [
    "I was searching for collaborations using the Detail to find coincidences, but it seems better to use the Date."
   ]
  },
  {
   "cell_type": "code",
   "execution_count": 18,
   "metadata": {
    "execution": {
     "iopub.execute_input": "2020-10-31T11:47:19.406460Z",
     "iopub.status.busy": "2020-10-31T11:47:19.405381Z",
     "iopub.status.idle": "2020-10-31T11:47:19.455625Z",
     "shell.execute_reply": "2020-10-31T11:47:19.456193Z"
    },
    "papermill": {
     "duration": 0.100978,
     "end_time": "2020-10-31T11:47:19.456367",
     "exception": false,
     "start_time": "2020-10-31T11:47:19.355389",
     "status": "completed"
    },
    "tags": []
   },
   "outputs": [
    {
     "data": {
      "text/html": [
       "<div>\n",
       "<style scoped>\n",
       "    .dataframe tbody tr th:only-of-type {\n",
       "        vertical-align: middle;\n",
       "    }\n",
       "\n",
       "    .dataframe tbody tr th {\n",
       "        vertical-align: top;\n",
       "    }\n",
       "\n",
       "    .dataframe thead th {\n",
       "        text-align: right;\n",
       "    }\n",
       "</style>\n",
       "<table border=\"1\" class=\"dataframe\">\n",
       "  <thead>\n",
       "    <tr style=\"text-align: right;\">\n",
       "      <th></th>\n",
       "      <th>Company Name</th>\n",
       "      <th>Detail</th>\n",
       "      <th>Date</th>\n",
       "    </tr>\n",
       "  </thead>\n",
       "  <tbody>\n",
       "    <tr>\n",
       "      <th>4299</th>\n",
       "      <td>NASA</td>\n",
       "      <td>Thor-DM 18 Able I | Pioneer 1</td>\n",
       "      <td>1958-10-11</td>\n",
       "    </tr>\n",
       "    <tr>\n",
       "      <th>4298</th>\n",
       "      <td>RVSN USSR</td>\n",
       "      <td>Vostok | E-1 n†­2 (Luna-1)</td>\n",
       "      <td>1958-10-11</td>\n",
       "    </tr>\n",
       "    <tr>\n",
       "      <th>4265</th>\n",
       "      <td>US Air Force</td>\n",
       "      <td>Thor-DM18 Agena-A | Discoverer 11</td>\n",
       "      <td>1960-04-15</td>\n",
       "    </tr>\n",
       "    <tr>\n",
       "      <th>4266</th>\n",
       "      <td>RVSN USSR</td>\n",
       "      <td>Vostok | E-3 n†­2 (Luna-3)</td>\n",
       "      <td>1960-04-15</td>\n",
       "    </tr>\n",
       "    <tr>\n",
       "      <th>4232</th>\n",
       "      <td>General Dynamics</td>\n",
       "      <td>Atlas-LV3 Agena-A | Samos 2</td>\n",
       "      <td>1961-01-31</td>\n",
       "    </tr>\n",
       "  </tbody>\n",
       "</table>\n",
       "</div>"
      ],
      "text/plain": [
       "          Company Name                             Detail       Date\n",
       "4299              NASA      Thor-DM 18 Able I | Pioneer 1 1958-10-11\n",
       "4298         RVSN USSR         Vostok | E-1 n†­2 (Luna-1) 1958-10-11\n",
       "4265      US Air Force  Thor-DM18 Agena-A | Discoverer 11 1960-04-15\n",
       "4266         RVSN USSR         Vostok | E-3 n†­2 (Luna-3) 1960-04-15\n",
       "4232  General Dynamics        Atlas-LV3 Agena-A | Samos 2 1961-01-31"
      ]
     },
     "execution_count": 18,
     "metadata": {},
     "output_type": "execute_result"
    }
   ],
   "source": [
    "counts=Space_data.groupby('Date')['Company Name'].transform('nunique')\n",
    "\n",
    "ind_d=[]\n",
    "for i in range(0,counts.shape[0]):\n",
    "    if counts[i]>1:\n",
    "        ind_d.append(i)\n",
    "\n",
    "Space_data.loc[ind_d,['Company Name','Detail','Date']].sort_values('Date').head()"
   ]
  },
  {
   "cell_type": "markdown",
   "metadata": {
    "papermill": {
     "duration": 0.039416,
     "end_time": "2020-10-31T11:47:19.535906",
     "exception": false,
     "start_time": "2020-10-31T11:47:19.496490",
     "status": "completed"
    },
    "tags": []
   },
   "source": [
    "We can see a lot of missions launched the same day from different companies, but the Detail is not similar.\n",
    "\n",
    "Again, it doesn't seem a good idea to look for the collaborations attending to the Date.\n",
    "\n",
    "It seams difficult to find the collaborations in this dataset."
   ]
  },
  {
   "cell_type": "markdown",
   "metadata": {
    "papermill": {
     "duration": 0.03877,
     "end_time": "2020-10-31T11:47:19.614353",
     "exception": false,
     "start_time": "2020-10-31T11:47:19.575583",
     "status": "completed"
    },
    "tags": []
   },
   "source": [
    "## Launches until first success\n",
    "\n",
    "I'm going to plot the status of the missions\n",
    "\n",
    "'Success', 'Failure', 'Prelaunch Failure', 'Partial Failure'\n"
   ]
  },
  {
   "cell_type": "code",
   "execution_count": 21,
   "metadata": {
    "execution": {
     "iopub.execute_input": "2020-10-31T11:47:19.707921Z",
     "iopub.status.busy": "2020-10-31T11:47:19.706937Z",
     "iopub.status.idle": "2020-10-31T11:47:20.453962Z",
     "shell.execute_reply": "2020-10-31T11:47:20.454633Z"
    },
    "papermill": {
     "duration": 0.801492,
     "end_time": "2020-10-31T11:47:20.454803",
     "exception": false,
     "start_time": "2020-10-31T11:47:19.653311",
     "status": "completed"
    },
    "tags": []
   },
   "outputs": [
    {
     "name": "stderr",
     "output_type": "stream",
     "text": [
      "No handles with labels found to put in legend.\n"
     ]
    },
    {
     "data": {
      "text/plain": [
       "<Figure size 432x288 with 0 Axes>"
      ]
     },
     "metadata": {},
     "output_type": "display_data"
    },
    {
     "data": {
      "image/png": "[encoded data removed]",
      "text/plain": [
       "<Figure size 1080x720 with 1 Axes>"
      ]
     },
     "metadata": {},
     "output_type": "display_data"
    }
   ],
   "source": [
    "mask_status_s=Space_data['Status Mission']=='Success'\n",
    "mask_status_f=Space_data['Status Mission']=='Failure'\n",
    "mask_status_prf=Space_data['Status Mission']=='Prelaunch Failure'\n",
    "mask_status_pf=Space_data['Status Mission']=='Partial Failure'\n",
    "\n",
    "plt.figure()\n",
    "plt.subplots(figsize=(15,10))\n",
    "plt.plot(Space_data['Date'][mask_status_s],Space_data['Company Name'][mask_status_s],'gd',Space_data['Date'][mask_status_f],Space_data['Company Name'][mask_status_f],'rd',Space_data['Date'][mask_status_prf|mask_status_pf],Space_data['Company Name'][mask_status_prf|mask_status_pf],'yd')\n",
    "plt.title(\"Mission Success Based on Date\")\n",
    "plt.xlabel(\"Year\")\n",
    "plt.ylabel(\"Company Name\")\n",
    "plt.legend(loc=\"best\");"
   ]
  },
  {
   "cell_type": "markdown",
   "metadata": {
    "papermill": {
     "duration": 0.043686,
     "end_time": "2020-10-31T11:47:20.543142",
     "exception": false,
     "start_time": "2020-10-31T11:47:20.499456",
     "status": "completed"
    },
    "tags": []
   },
   "source": [
    "With this plot we can conclude that the failed missions are more important at the beggining of the Space Race (the earliest dates of the history of space missions), than at the beggining of the individual companies.\n",
    "\n",
    "There are more mutual information and more experience as time advances and the different companies take proffit of it. This is a general tendence and it's not true for every company, as we can see for ISA.\n",
    "\n",
    "https://en.wikipedia.org/wiki/Iranian_Space_Agency\n"
   ]
  },
  {
   "cell_type": "code",
   "execution_count": 22,
   "metadata": {
    "execution": {
     "iopub.execute_input": "2020-10-31T11:47:20.659513Z",
     "iopub.status.busy": "2020-10-31T11:47:20.658463Z",
     "iopub.status.idle": "2020-10-31T11:47:20.664087Z",
     "shell.execute_reply": "2020-10-31T11:47:20.663450Z"
    },
    "papermill": {
     "duration": 0.077073,
     "end_time": "2020-10-31T11:47:20.664222",
     "exception": false,
     "start_time": "2020-10-31T11:47:20.587149",
     "status": "completed"
    },
    "tags": []
   },
   "outputs": [
    {
     "data": {
      "text/html": [
       "<div>\n",
       "<style scoped>\n",
       "    .dataframe tbody tr th:only-of-type {\n",
       "        vertical-align: middle;\n",
       "    }\n",
       "\n",
       "    .dataframe tbody tr th {\n",
       "        vertical-align: top;\n",
       "    }\n",
       "\n",
       "    .dataframe thead th {\n",
       "        text-align: right;\n",
       "    }\n",
       "</style>\n",
       "<table border=\"1\" class=\"dataframe\">\n",
       "  <thead>\n",
       "    <tr style=\"text-align: right;\">\n",
       "      <th></th>\n",
       "      <th>Unnamed: 0</th>\n",
       "      <th>Unnamed: 0.1</th>\n",
       "      <th>Company Name</th>\n",
       "      <th>Location</th>\n",
       "      <th>Datum</th>\n",
       "      <th>Detail</th>\n",
       "      <th>Status Rocket</th>\n",
       "      <th>Rocket</th>\n",
       "      <th>Status Mission</th>\n",
       "      <th>Country</th>\n",
       "      <th>Date</th>\n",
       "      <th>Year</th>\n",
       "      <th>Rocket</th>\n",
       "    </tr>\n",
       "  </thead>\n",
       "  <tbody>\n",
       "    <tr>\n",
       "      <th>52</th>\n",
       "      <td>52</td>\n",
       "      <td>52</td>\n",
       "      <td>ISA</td>\n",
       "      <td>Imam Khomeini Spaceport, Semnan Space Center, ...</td>\n",
       "      <td>Sun Feb 09, 2020 15:48 UTC</td>\n",
       "      <td>Simorgh | Zafar 1</td>\n",
       "      <td>1</td>\n",
       "      <td>NaN</td>\n",
       "      <td>Failure</td>\n",
       "      <td>Iran</td>\n",
       "      <td>2020-02-09</td>\n",
       "      <td>2020</td>\n",
       "      <td>0.0</td>\n",
       "    </tr>\n",
       "    <tr>\n",
       "      <th>106</th>\n",
       "      <td>106</td>\n",
       "      <td>106</td>\n",
       "      <td>ISA</td>\n",
       "      <td>Imam Khomeini Spaceport, Semnan Space Center, ...</td>\n",
       "      <td>Thu Aug 29, 2019</td>\n",
       "      <td>Safir-1B+ | Nahid-1</td>\n",
       "      <td>1</td>\n",
       "      <td>NaN</td>\n",
       "      <td>Prelaunch Failure</td>\n",
       "      <td>Iran</td>\n",
       "      <td>2019-08-29</td>\n",
       "      <td>2019</td>\n",
       "      <td>0.0</td>\n",
       "    </tr>\n",
       "    <tr>\n",
       "      <th>163</th>\n",
       "      <td>163</td>\n",
       "      <td>163</td>\n",
       "      <td>ISA</td>\n",
       "      <td>Imam Khomeini Spaceport, Semnan Space Center, ...</td>\n",
       "      <td>Tue Feb 05, 2019</td>\n",
       "      <td>Safir-1B+ | Dousti</td>\n",
       "      <td>1</td>\n",
       "      <td>NaN</td>\n",
       "      <td>Failure</td>\n",
       "      <td>Iran</td>\n",
       "      <td>2019-02-05</td>\n",
       "      <td>2019</td>\n",
       "      <td>0.0</td>\n",
       "    </tr>\n",
       "    <tr>\n",
       "      <th>169</th>\n",
       "      <td>169</td>\n",
       "      <td>169</td>\n",
       "      <td>ISA</td>\n",
       "      <td>Imam Khomeini Spaceport, Semnan Space Center, ...</td>\n",
       "      <td>Tue Jan 15, 2019 00:30 UTC</td>\n",
       "      <td>Simorgh | Payam-e Amirkabir</td>\n",
       "      <td>1</td>\n",
       "      <td>NaN</td>\n",
       "      <td>Failure</td>\n",
       "      <td>Iran</td>\n",
       "      <td>2019-01-15</td>\n",
       "      <td>2019</td>\n",
       "      <td>0.0</td>\n",
       "    </tr>\n",
       "    <tr>\n",
       "      <th>335</th>\n",
       "      <td>335</td>\n",
       "      <td>335</td>\n",
       "      <td>ISA</td>\n",
       "      <td>Imam Khomeini Spaceport, Semnan Space Center, ...</td>\n",
       "      <td>Thu Jul 27, 2017</td>\n",
       "      <td>Simorgh | Test Flight</td>\n",
       "      <td>1</td>\n",
       "      <td>NaN</td>\n",
       "      <td>Failure</td>\n",
       "      <td>Iran</td>\n",
       "      <td>2017-07-27</td>\n",
       "      <td>2017</td>\n",
       "      <td>0.0</td>\n",
       "    </tr>\n",
       "    <tr>\n",
       "      <th>515</th>\n",
       "      <td>515</td>\n",
       "      <td>515</td>\n",
       "      <td>ISA</td>\n",
       "      <td>Imam Khomeini Spaceport, Semnan Space Center, ...</td>\n",
       "      <td>Tue Feb 17, 2015</td>\n",
       "      <td>Safir-1B+ | Unknown Payload</td>\n",
       "      <td>1</td>\n",
       "      <td>NaN</td>\n",
       "      <td>Failure</td>\n",
       "      <td>Iran</td>\n",
       "      <td>2015-02-17</td>\n",
       "      <td>2015</td>\n",
       "      <td>0.0</td>\n",
       "    </tr>\n",
       "    <tr>\n",
       "      <th>518</th>\n",
       "      <td>518</td>\n",
       "      <td>518</td>\n",
       "      <td>ISA</td>\n",
       "      <td>Imam Khomeini Spaceport, Semnan Space Center, ...</td>\n",
       "      <td>Mon Feb 02, 2015</td>\n",
       "      <td>Safir-1B+ | Fajr</td>\n",
       "      <td>1</td>\n",
       "      <td>NaN</td>\n",
       "      <td>Success</td>\n",
       "      <td>Iran</td>\n",
       "      <td>2015-02-02</td>\n",
       "      <td>2015</td>\n",
       "      <td>0.0</td>\n",
       "    </tr>\n",
       "    <tr>\n",
       "      <th>632</th>\n",
       "      <td>632</td>\n",
       "      <td>632</td>\n",
       "      <td>ISA</td>\n",
       "      <td>Imam Khomeini Spaceport, Semnan Space Center, ...</td>\n",
       "      <td>Sat Sep 22, 2012</td>\n",
       "      <td>Safir-1B+ | Unknown Payload</td>\n",
       "      <td>1</td>\n",
       "      <td>NaN</td>\n",
       "      <td>Failure</td>\n",
       "      <td>Iran</td>\n",
       "      <td>2012-09-22</td>\n",
       "      <td>2012</td>\n",
       "      <td>0.0</td>\n",
       "    </tr>\n",
       "    <tr>\n",
       "      <th>646</th>\n",
       "      <td>646</td>\n",
       "      <td>646</td>\n",
       "      <td>ISA</td>\n",
       "      <td>Imam Khomeini Spaceport, Semnan Space Center, ...</td>\n",
       "      <td>Wed May 23, 2012</td>\n",
       "      <td>Safir-1B+ | Unknown Payload</td>\n",
       "      <td>1</td>\n",
       "      <td>NaN</td>\n",
       "      <td>Failure</td>\n",
       "      <td>Iran</td>\n",
       "      <td>2012-05-23</td>\n",
       "      <td>2012</td>\n",
       "      <td>0.0</td>\n",
       "    </tr>\n",
       "    <tr>\n",
       "      <th>658</th>\n",
       "      <td>658</td>\n",
       "      <td>658</td>\n",
       "      <td>ISA</td>\n",
       "      <td>Imam Khomeini Spaceport, Semnan Space Center, ...</td>\n",
       "      <td>Fri Feb 03, 2012</td>\n",
       "      <td>Safir-1B | Navid</td>\n",
       "      <td>0</td>\n",
       "      <td>NaN</td>\n",
       "      <td>Success</td>\n",
       "      <td>Iran</td>\n",
       "      <td>2012-02-03</td>\n",
       "      <td>2012</td>\n",
       "      <td>0.0</td>\n",
       "    </tr>\n",
       "    <tr>\n",
       "      <th>684</th>\n",
       "      <td>684</td>\n",
       "      <td>684</td>\n",
       "      <td>ISA</td>\n",
       "      <td>Imam Khomeini Spaceport, Semnan Space Center, ...</td>\n",
       "      <td>Wed Jun 15, 2011</td>\n",
       "      <td>Safir-1A | Rasad 1</td>\n",
       "      <td>0</td>\n",
       "      <td>NaN</td>\n",
       "      <td>Success</td>\n",
       "      <td>Iran</td>\n",
       "      <td>2011-06-15</td>\n",
       "      <td>2011</td>\n",
       "      <td>0.0</td>\n",
       "    </tr>\n",
       "    <tr>\n",
       "      <th>785</th>\n",
       "      <td>785</td>\n",
       "      <td>785</td>\n",
       "      <td>ISA</td>\n",
       "      <td>Imam Khomeini Spaceport, Semnan Space Center, ...</td>\n",
       "      <td>Mon Feb 02, 2009</td>\n",
       "      <td>Safir-1 | Omid</td>\n",
       "      <td>0</td>\n",
       "      <td>NaN</td>\n",
       "      <td>Success</td>\n",
       "      <td>Iran</td>\n",
       "      <td>2009-02-02</td>\n",
       "      <td>2009</td>\n",
       "      <td>0.0</td>\n",
       "    </tr>\n",
       "    <tr>\n",
       "      <th>806</th>\n",
       "      <td>806</td>\n",
       "      <td>806</td>\n",
       "      <td>ISA</td>\n",
       "      <td>Imam Khomeini Spaceport, Semnan Space Center, ...</td>\n",
       "      <td>Sun Aug 17, 2008</td>\n",
       "      <td>Safir-1 | Unknown Payload</td>\n",
       "      <td>0</td>\n",
       "      <td>NaN</td>\n",
       "      <td>Failure</td>\n",
       "      <td>Iran</td>\n",
       "      <td>2008-08-17</td>\n",
       "      <td>2008</td>\n",
       "      <td>0.0</td>\n",
       "    </tr>\n",
       "  </tbody>\n",
       "</table>\n",
       "</div>"
      ],
      "text/plain": [
       "     Unnamed: 0  Unnamed: 0.1 Company Name  \\\n",
       "52           52            52          ISA   \n",
       "106         106           106          ISA   \n",
       "163         163           163          ISA   \n",
       "169         169           169          ISA   \n",
       "335         335           335          ISA   \n",
       "515         515           515          ISA   \n",
       "518         518           518          ISA   \n",
       "632         632           632          ISA   \n",
       "646         646           646          ISA   \n",
       "658         658           658          ISA   \n",
       "684         684           684          ISA   \n",
       "785         785           785          ISA   \n",
       "806         806           806          ISA   \n",
       "\n",
       "                                              Location  \\\n",
       "52   Imam Khomeini Spaceport, Semnan Space Center, ...   \n",
       "106  Imam Khomeini Spaceport, Semnan Space Center, ...   \n",
       "163  Imam Khomeini Spaceport, Semnan Space Center, ...   \n",
       "169  Imam Khomeini Spaceport, Semnan Space Center, ...   \n",
       "335  Imam Khomeini Spaceport, Semnan Space Center, ...   \n",
       "515  Imam Khomeini Spaceport, Semnan Space Center, ...   \n",
       "518  Imam Khomeini Spaceport, Semnan Space Center, ...   \n",
       "632  Imam Khomeini Spaceport, Semnan Space Center, ...   \n",
       "646  Imam Khomeini Spaceport, Semnan Space Center, ...   \n",
       "658  Imam Khomeini Spaceport, Semnan Space Center, ...   \n",
       "684  Imam Khomeini Spaceport, Semnan Space Center, ...   \n",
       "785  Imam Khomeini Spaceport, Semnan Space Center, ...   \n",
       "806  Imam Khomeini Spaceport, Semnan Space Center, ...   \n",
       "\n",
       "                          Datum                       Detail  Status Rocket  \\\n",
       "52   Sun Feb 09, 2020 15:48 UTC            Simorgh | Zafar 1              1   \n",
       "106            Thu Aug 29, 2019          Safir-1B+ | Nahid-1              1   \n",
       "163            Tue Feb 05, 2019           Safir-1B+ | Dousti              1   \n",
       "169  Tue Jan 15, 2019 00:30 UTC  Simorgh | Payam-e Amirkabir              1   \n",
       "335            Thu Jul 27, 2017        Simorgh | Test Flight              1   \n",
       "515            Tue Feb 17, 2015  Safir-1B+ | Unknown Payload              1   \n",
       "518            Mon Feb 02, 2015             Safir-1B+ | Fajr              1   \n",
       "632            Sat Sep 22, 2012  Safir-1B+ | Unknown Payload              1   \n",
       "646            Wed May 23, 2012  Safir-1B+ | Unknown Payload              1   \n",
       "658            Fri Feb 03, 2012             Safir-1B | Navid              0   \n",
       "684            Wed Jun 15, 2011           Safir-1A | Rasad 1              0   \n",
       "785            Mon Feb 02, 2009               Safir-1 | Omid              0   \n",
       "806            Sun Aug 17, 2008    Safir-1 | Unknown Payload              0   \n",
       "\n",
       "     Rocket     Status Mission Country       Date  Year  Rocket  \n",
       "52      NaN            Failure    Iran 2020-02-09  2020     0.0  \n",
       "106     NaN  Prelaunch Failure    Iran 2019-08-29  2019     0.0  \n",
       "163     NaN            Failure    Iran 2019-02-05  2019     0.0  \n",
       "169     NaN            Failure    Iran 2019-01-15  2019     0.0  \n",
       "335     NaN            Failure    Iran 2017-07-27  2017     0.0  \n",
       "515     NaN            Failure    Iran 2015-02-17  2015     0.0  \n",
       "518     NaN            Success    Iran 2015-02-02  2015     0.0  \n",
       "632     NaN            Failure    Iran 2012-09-22  2012     0.0  \n",
       "646     NaN            Failure    Iran 2012-05-23  2012     0.0  \n",
       "658     NaN            Success    Iran 2012-02-03  2012     0.0  \n",
       "684     NaN            Success    Iran 2011-06-15  2011     0.0  \n",
       "785     NaN            Success    Iran 2009-02-02  2009     0.0  \n",
       "806     NaN            Failure    Iran 2008-08-17  2008     0.0  "
      ]
     },
     "execution_count": 22,
     "metadata": {},
     "output_type": "execute_result"
    }
   ],
   "source": [
    "\n",
    "mask_status_ISA=Space_data['Company Name']=='ISA'\n",
    "Space_data[mask_status_ISA]\n"
   ]
  },
  {
   "cell_type": "markdown",
   "metadata": {
    "papermill": {
     "duration": 0.044663,
     "end_time": "2020-10-31T11:47:20.754246",
     "exception": false,
     "start_time": "2020-10-31T11:47:20.709583",
     "status": "completed"
    },
    "tags": []
   },
   "source": [
    "I create a DataFrame with the successful missions"
   ]
  },
  {
   "cell_type": "code",
   "execution_count": 23,
   "metadata": {
    "execution": {
     "iopub.execute_input": "2020-10-31T11:47:20.851787Z",
     "iopub.status.busy": "2020-10-31T11:47:20.850941Z",
     "iopub.status.idle": "2020-10-31T11:47:20.866841Z",
     "shell.execute_reply": "2020-10-31T11:47:20.867504Z"
    },
    "papermill": {
     "duration": 0.068694,
     "end_time": "2020-10-31T11:47:20.867688",
     "exception": false,
     "start_time": "2020-10-31T11:47:20.798994",
     "status": "completed"
    },
    "tags": []
   },
   "outputs": [],
   "source": [
    "mask_success = Space_data['Status Mission']=='Success'\n",
    "Space_data_success = Space_data.loc[mask_success]\n",
    "mask_first = (Space_data_success['Date']).groupby([Space_data_success['Company Name']]).idxmin()\n",
    "Space_data_first = Space_data_success.loc[mask_first]\n"
   ]
  },
  {
   "cell_type": "markdown",
   "metadata": {
    "papermill": {
     "duration": 0.045569,
     "end_time": "2020-10-31T11:47:20.958295",
     "exception": false,
     "start_time": "2020-10-31T11:47:20.912726",
     "status": "completed"
    },
    "tags": []
   },
   "source": [
    "I check if it is what I wanted with one example."
   ]
  },
  {
   "cell_type": "code",
   "execution_count": 24,
   "metadata": {
    "execution": {
     "iopub.execute_input": "2020-10-31T11:47:21.074756Z",
     "iopub.status.busy": "2020-10-31T11:47:21.073757Z",
     "iopub.status.idle": "2020-10-31T11:47:21.078672Z",
     "shell.execute_reply": "2020-10-31T11:47:21.078027Z"
    },
    "papermill": {
     "duration": 0.075631,
     "end_time": "2020-10-31T11:47:21.078802",
     "exception": false,
     "start_time": "2020-10-31T11:47:21.003171",
     "status": "completed"
    },
    "tags": []
   },
   "outputs": [
    {
     "data": {
      "text/html": [
       "<div>\n",
       "<style scoped>\n",
       "    .dataframe tbody tr th:only-of-type {\n",
       "        vertical-align: middle;\n",
       "    }\n",
       "\n",
       "    .dataframe tbody tr th {\n",
       "        vertical-align: top;\n",
       "    }\n",
       "\n",
       "    .dataframe thead th {\n",
       "        text-align: right;\n",
       "    }\n",
       "</style>\n",
       "<table border=\"1\" class=\"dataframe\">\n",
       "  <thead>\n",
       "    <tr style=\"text-align: right;\">\n",
       "      <th></th>\n",
       "      <th>Unnamed: 0</th>\n",
       "      <th>Unnamed: 0.1</th>\n",
       "      <th>Company Name</th>\n",
       "      <th>Location</th>\n",
       "      <th>Datum</th>\n",
       "      <th>Detail</th>\n",
       "      <th>Status Rocket</th>\n",
       "      <th>Rocket</th>\n",
       "      <th>Status Mission</th>\n",
       "      <th>Country</th>\n",
       "      <th>Date</th>\n",
       "      <th>Year</th>\n",
       "      <th>Rocket</th>\n",
       "    </tr>\n",
       "  </thead>\n",
       "  <tbody>\n",
       "    <tr>\n",
       "      <th>11</th>\n",
       "      <td>11</td>\n",
       "      <td>11</td>\n",
       "      <td>ExPace</td>\n",
       "      <td>Site 95, Jiuquan Satellite Launch Center, China</td>\n",
       "      <td>Fri Jul 10, 2020 04:17 UTC</td>\n",
       "      <td>Kuaizhou 11 | Jilin-1 02E, CentiSpace-1 S2</td>\n",
       "      <td>1</td>\n",
       "      <td>28.3</td>\n",
       "      <td>Failure</td>\n",
       "      <td>China</td>\n",
       "      <td>2020-07-10</td>\n",
       "      <td>2020</td>\n",
       "      <td>28.3</td>\n",
       "    </tr>\n",
       "    <tr>\n",
       "      <th>31</th>\n",
       "      <td>31</td>\n",
       "      <td>31</td>\n",
       "      <td>ExPace</td>\n",
       "      <td>Site 95, Jiuquan Satellite Launch Center, China</td>\n",
       "      <td>Tue May 12, 2020 01:16 UTC</td>\n",
       "      <td>Kuaizhou 1A | Xingyun-2 01 (Wuhan) &amp; 02</td>\n",
       "      <td>1</td>\n",
       "      <td>NaN</td>\n",
       "      <td>Success</td>\n",
       "      <td>China</td>\n",
       "      <td>2020-05-12</td>\n",
       "      <td>2020</td>\n",
       "      <td>0.0</td>\n",
       "    </tr>\n",
       "    <tr>\n",
       "      <th>59</th>\n",
       "      <td>59</td>\n",
       "      <td>59</td>\n",
       "      <td>ExPace</td>\n",
       "      <td>Site 95, Jiuquan Satellite Launch Center, China</td>\n",
       "      <td>Thu Jan 16, 2020 03:02 UTC</td>\n",
       "      <td>Kuaizhou 1A | Yinhe-1</td>\n",
       "      <td>1</td>\n",
       "      <td>NaN</td>\n",
       "      <td>Success</td>\n",
       "      <td>China</td>\n",
       "      <td>2020-01-16</td>\n",
       "      <td>2020</td>\n",
       "      <td>0.0</td>\n",
       "    </tr>\n",
       "    <tr>\n",
       "      <th>74</th>\n",
       "      <td>74</td>\n",
       "      <td>74</td>\n",
       "      <td>ExPace</td>\n",
       "      <td>Site 9401 (SLS-2), Jiuquan Satellite Launch Ce...</td>\n",
       "      <td>Sat Dec 07, 2019 08:52 UTC</td>\n",
       "      <td>Kuaizhou 1A | HEAD-2A/B / SpaceTY 16/17 / Tian...</td>\n",
       "      <td>1</td>\n",
       "      <td>NaN</td>\n",
       "      <td>Success</td>\n",
       "      <td>China</td>\n",
       "      <td>2019-12-07</td>\n",
       "      <td>2019</td>\n",
       "      <td>0.0</td>\n",
       "    </tr>\n",
       "    <tr>\n",
       "      <th>75</th>\n",
       "      <td>75</td>\n",
       "      <td>75</td>\n",
       "      <td>ExPace</td>\n",
       "      <td>Taiyuan Satellite Launch Center, China</td>\n",
       "      <td>Sat Dec 07, 2019 02:55 UTC</td>\n",
       "      <td>Kuaizhou 1A | Jilin-1 Gaofen-02B</td>\n",
       "      <td>1</td>\n",
       "      <td>NaN</td>\n",
       "      <td>Success</td>\n",
       "      <td>China</td>\n",
       "      <td>2019-12-07</td>\n",
       "      <td>2019</td>\n",
       "      <td>0.0</td>\n",
       "    </tr>\n",
       "    <tr>\n",
       "      <th>84</th>\n",
       "      <td>84</td>\n",
       "      <td>84</td>\n",
       "      <td>ExPace</td>\n",
       "      <td>Site 95, Jiuquan Satellite Launch Center, China</td>\n",
       "      <td>Sun Nov 17, 2019 10:00 UTC</td>\n",
       "      <td>Kuaizhou 1A | KL-Alpha A, KL-Alpha B</td>\n",
       "      <td>1</td>\n",
       "      <td>NaN</td>\n",
       "      <td>Success</td>\n",
       "      <td>China</td>\n",
       "      <td>2019-11-17</td>\n",
       "      <td>2019</td>\n",
       "      <td>0.0</td>\n",
       "    </tr>\n",
       "    <tr>\n",
       "      <th>86</th>\n",
       "      <td>86</td>\n",
       "      <td>86</td>\n",
       "      <td>ExPace</td>\n",
       "      <td>Site 95, Jiuquan Satellite Launch Center, China</td>\n",
       "      <td>Wed Nov 13, 2019 03:40 UTC</td>\n",
       "      <td>Kuaizhou 1A | Jilin 1-02A</td>\n",
       "      <td>1</td>\n",
       "      <td>NaN</td>\n",
       "      <td>Success</td>\n",
       "      <td>China</td>\n",
       "      <td>2019-11-13</td>\n",
       "      <td>2019</td>\n",
       "      <td>0.0</td>\n",
       "    </tr>\n",
       "    <tr>\n",
       "      <th>104</th>\n",
       "      <td>104</td>\n",
       "      <td>104</td>\n",
       "      <td>ExPace</td>\n",
       "      <td>Site 95, Jiuquan Satellite Launch Center, China</td>\n",
       "      <td>Fri Aug 30, 2019 23:41 UTC</td>\n",
       "      <td>Kuaizhou 1A | KX-09 &amp; Others</td>\n",
       "      <td>1</td>\n",
       "      <td>NaN</td>\n",
       "      <td>Success</td>\n",
       "      <td>China</td>\n",
       "      <td>2019-08-30</td>\n",
       "      <td>2019</td>\n",
       "      <td>0.0</td>\n",
       "    </tr>\n",
       "    <tr>\n",
       "      <th>211</th>\n",
       "      <td>211</td>\n",
       "      <td>211</td>\n",
       "      <td>ExPace</td>\n",
       "      <td>Site 95, Jiuquan Satellite Launch Center, China</td>\n",
       "      <td>Sat Sep 29, 2018 04:13 UTC</td>\n",
       "      <td>Kuaizhou 1A | CentiSpace-1 S1</td>\n",
       "      <td>1</td>\n",
       "      <td>NaN</td>\n",
       "      <td>Success</td>\n",
       "      <td>China</td>\n",
       "      <td>2018-09-29</td>\n",
       "      <td>2018</td>\n",
       "      <td>0.0</td>\n",
       "    </tr>\n",
       "    <tr>\n",
       "      <th>379</th>\n",
       "      <td>379</td>\n",
       "      <td>379</td>\n",
       "      <td>ExPace</td>\n",
       "      <td>Site 95, Jiuquan Satellite Launch Center, China</td>\n",
       "      <td>Mon Jan 09, 2017 04:11 UTC</td>\n",
       "      <td>Kuaizhou 1A | Jilin-1 03, Caton-1 &amp; Xingyun Sh...</td>\n",
       "      <td>1</td>\n",
       "      <td>NaN</td>\n",
       "      <td>Success</td>\n",
       "      <td>China</td>\n",
       "      <td>2017-01-09</td>\n",
       "      <td>2017</td>\n",
       "      <td>0.0</td>\n",
       "    </tr>\n",
       "  </tbody>\n",
       "</table>\n",
       "</div>"
      ],
      "text/plain": [
       "     Unnamed: 0  Unnamed: 0.1 Company Name  \\\n",
       "11           11            11       ExPace   \n",
       "31           31            31       ExPace   \n",
       "59           59            59       ExPace   \n",
       "74           74            74       ExPace   \n",
       "75           75            75       ExPace   \n",
       "84           84            84       ExPace   \n",
       "86           86            86       ExPace   \n",
       "104         104           104       ExPace   \n",
       "211         211           211       ExPace   \n",
       "379         379           379       ExPace   \n",
       "\n",
       "                                              Location  \\\n",
       "11     Site 95, Jiuquan Satellite Launch Center, China   \n",
       "31     Site 95, Jiuquan Satellite Launch Center, China   \n",
       "59     Site 95, Jiuquan Satellite Launch Center, China   \n",
       "74   Site 9401 (SLS-2), Jiuquan Satellite Launch Ce...   \n",
       "75              Taiyuan Satellite Launch Center, China   \n",
       "84     Site 95, Jiuquan Satellite Launch Center, China   \n",
       "86     Site 95, Jiuquan Satellite Launch Center, China   \n",
       "104    Site 95, Jiuquan Satellite Launch Center, China   \n",
       "211    Site 95, Jiuquan Satellite Launch Center, China   \n",
       "379    Site 95, Jiuquan Satellite Launch Center, China   \n",
       "\n",
       "                          Datum  \\\n",
       "11   Fri Jul 10, 2020 04:17 UTC   \n",
       "31   Tue May 12, 2020 01:16 UTC   \n",
       "59   Thu Jan 16, 2020 03:02 UTC   \n",
       "74   Sat Dec 07, 2019 08:52 UTC   \n",
       "75   Sat Dec 07, 2019 02:55 UTC   \n",
       "84   Sun Nov 17, 2019 10:00 UTC   \n",
       "86   Wed Nov 13, 2019 03:40 UTC   \n",
       "104  Fri Aug 30, 2019 23:41 UTC   \n",
       "211  Sat Sep 29, 2018 04:13 UTC   \n",
       "379  Mon Jan 09, 2017 04:11 UTC   \n",
       "\n",
       "                                                Detail  Status Rocket  Rocket  \\\n",
       "11          Kuaizhou 11 | Jilin-1 02E, CentiSpace-1 S2              1   28.3    \n",
       "31             Kuaizhou 1A | Xingyun-2 01 (Wuhan) & 02              1     NaN   \n",
       "59                               Kuaizhou 1A | Yinhe-1              1     NaN   \n",
       "74   Kuaizhou 1A | HEAD-2A/B / SpaceTY 16/17 / Tian...              1     NaN   \n",
       "75                    Kuaizhou 1A | Jilin-1 Gaofen-02B              1     NaN   \n",
       "84                Kuaizhou 1A | KL-Alpha A, KL-Alpha B              1     NaN   \n",
       "86                           Kuaizhou 1A | Jilin 1-02A              1     NaN   \n",
       "104                       Kuaizhou 1A | KX-09 & Others              1     NaN   \n",
       "211                      Kuaizhou 1A | CentiSpace-1 S1              1     NaN   \n",
       "379  Kuaizhou 1A | Jilin-1 03, Caton-1 & Xingyun Sh...              1     NaN   \n",
       "\n",
       "    Status Mission Country       Date  Year  Rocket  \n",
       "11         Failure   China 2020-07-10  2020    28.3  \n",
       "31         Success   China 2020-05-12  2020     0.0  \n",
       "59         Success   China 2020-01-16  2020     0.0  \n",
       "74         Success   China 2019-12-07  2019     0.0  \n",
       "75         Success   China 2019-12-07  2019     0.0  \n",
       "84         Success   China 2019-11-17  2019     0.0  \n",
       "86         Success   China 2019-11-13  2019     0.0  \n",
       "104        Success   China 2019-08-30  2019     0.0  \n",
       "211        Success   China 2018-09-29  2018     0.0  \n",
       "379        Success   China 2017-01-09  2017     0.0  "
      ]
     },
     "execution_count": 24,
     "metadata": {},
     "output_type": "execute_result"
    }
   ],
   "source": [
    "Space_data[Space_data['Company Name']=='ExPace']"
   ]
  },
  {
   "cell_type": "code",
   "execution_count": 25,
   "metadata": {
    "execution": {
     "iopub.execute_input": "2020-10-31T11:47:21.192269Z",
     "iopub.status.busy": "2020-10-31T11:47:21.191213Z",
     "iopub.status.idle": "2020-10-31T11:47:21.196681Z",
     "shell.execute_reply": "2020-10-31T11:47:21.197297Z"
    },
    "papermill": {
     "duration": 0.072524,
     "end_time": "2020-10-31T11:47:21.197453",
     "exception": false,
     "start_time": "2020-10-31T11:47:21.124929",
     "status": "completed"
    },
    "tags": []
   },
   "outputs": [
    {
     "name": "stderr",
     "output_type": "stream",
     "text": [
      "<ipython-input-25-ef0ba63aa441>:1: UserWarning: Boolean Series key will be reindexed to match DataFrame index.\n",
      "  Space_data_first[Space_data['Company Name']=='ExPace']\n"
     ]
    },
    {
     "data": {
      "text/html": [
       "<div>\n",
       "<style scoped>\n",
       "    .dataframe tbody tr th:only-of-type {\n",
       "        vertical-align: middle;\n",
       "    }\n",
       "\n",
       "    .dataframe tbody tr th {\n",
       "        vertical-align: top;\n",
       "    }\n",
       "\n",
       "    .dataframe thead th {\n",
       "        text-align: right;\n",
       "    }\n",
       "</style>\n",
       "<table border=\"1\" class=\"dataframe\">\n",
       "  <thead>\n",
       "    <tr style=\"text-align: right;\">\n",
       "      <th></th>\n",
       "      <th>Unnamed: 0</th>\n",
       "      <th>Unnamed: 0.1</th>\n",
       "      <th>Company Name</th>\n",
       "      <th>Location</th>\n",
       "      <th>Datum</th>\n",
       "      <th>Detail</th>\n",
       "      <th>Status Rocket</th>\n",
       "      <th>Rocket</th>\n",
       "      <th>Status Mission</th>\n",
       "      <th>Country</th>\n",
       "      <th>Date</th>\n",
       "      <th>Year</th>\n",
       "      <th>Rocket</th>\n",
       "    </tr>\n",
       "  </thead>\n",
       "  <tbody>\n",
       "    <tr>\n",
       "      <th>379</th>\n",
       "      <td>379</td>\n",
       "      <td>379</td>\n",
       "      <td>ExPace</td>\n",
       "      <td>Site 95, Jiuquan Satellite Launch Center, China</td>\n",
       "      <td>Mon Jan 09, 2017 04:11 UTC</td>\n",
       "      <td>Kuaizhou 1A | Jilin-1 03, Caton-1 &amp; Xingyun Sh...</td>\n",
       "      <td>1</td>\n",
       "      <td>NaN</td>\n",
       "      <td>Success</td>\n",
       "      <td>China</td>\n",
       "      <td>2017-01-09</td>\n",
       "      <td>2017</td>\n",
       "      <td>0.0</td>\n",
       "    </tr>\n",
       "  </tbody>\n",
       "</table>\n",
       "</div>"
      ],
      "text/plain": [
       "     Unnamed: 0  Unnamed: 0.1 Company Name  \\\n",
       "379         379           379       ExPace   \n",
       "\n",
       "                                            Location  \\\n",
       "379  Site 95, Jiuquan Satellite Launch Center, China   \n",
       "\n",
       "                          Datum  \\\n",
       "379  Mon Jan 09, 2017 04:11 UTC   \n",
       "\n",
       "                                                Detail  Status Rocket  Rocket  \\\n",
       "379  Kuaizhou 1A | Jilin-1 03, Caton-1 & Xingyun Sh...              1     NaN   \n",
       "\n",
       "    Status Mission Country       Date  Year  Rocket  \n",
       "379        Success   China 2017-01-09  2017     0.0  "
      ]
     },
     "execution_count": 25,
     "metadata": {},
     "output_type": "execute_result"
    }
   ],
   "source": [
    "Space_data_first[Space_data['Company Name']=='ExPace']"
   ]
  },
  {
   "cell_type": "markdown",
   "metadata": {
    "papermill": {
     "duration": 0.047232,
     "end_time": "2020-10-31T11:47:21.291657",
     "exception": false,
     "start_time": "2020-10-31T11:47:21.244425",
     "status": "completed"
    },
    "tags": []
   },
   "source": [
    "Having the first successfull mission of each Company, I'm going to look for the previous missions of each Company."
   ]
  },
  {
   "cell_type": "code",
   "execution_count": 26,
   "metadata": {
    "execution": {
     "iopub.execute_input": "2020-10-31T11:47:21.391021Z",
     "iopub.status.busy": "2020-10-31T11:47:21.390256Z",
     "iopub.status.idle": "2020-10-31T11:47:21.393574Z",
     "shell.execute_reply": "2020-10-31T11:47:21.392858Z"
    },
    "papermill": {
     "duration": 0.054885,
     "end_time": "2020-10-31T11:47:21.393706",
     "exception": false,
     "start_time": "2020-10-31T11:47:21.338821",
     "status": "completed"
    },
    "tags": []
   },
   "outputs": [],
   "source": [
    "#mask_not_success = Space_data['Status Mission']!='Success'\n",
    "#Space_data_not_success = Space_data.loc[mask_not_success]\n",
    "#Space_data_not_success.head()"
   ]
  },
  {
   "cell_type": "markdown",
   "metadata": {
    "papermill": {
     "duration": 0.047124,
     "end_time": "2020-10-31T11:47:21.488393",
     "exception": false,
     "start_time": "2020-10-31T11:47:21.441269",
     "status": "completed"
    },
    "tags": []
   },
   "source": [
    "\n",
    "When I can't manage with pandas... I make a loop."
   ]
  },
  {
   "cell_type": "code",
   "execution_count": 27,
   "metadata": {
    "execution": {
     "iopub.execute_input": "2020-10-31T11:47:21.588613Z",
     "iopub.status.busy": "2020-10-31T11:47:21.587628Z",
     "iopub.status.idle": "2020-10-31T11:47:21.590727Z",
     "shell.execute_reply": "2020-10-31T11:47:21.589935Z"
    },
    "papermill": {
     "duration": 0.05523,
     "end_time": "2020-10-31T11:47:21.590860",
     "exception": false,
     "start_time": "2020-10-31T11:47:21.535630",
     "status": "completed"
    },
    "tags": []
   },
   "outputs": [],
   "source": [
    "#Space_data_first.head()"
   ]
  },
  {
   "cell_type": "code",
   "execution_count": 28,
   "metadata": {
    "execution": {
     "iopub.execute_input": "2020-10-31T11:47:21.741717Z",
     "iopub.status.busy": "2020-10-31T11:47:21.731572Z",
     "iopub.status.idle": "2020-10-31T11:47:22.801543Z",
     "shell.execute_reply": "2020-10-31T11:47:22.800933Z"
    },
    "papermill": {
     "duration": 1.162972,
     "end_time": "2020-10-31T11:47:22.801678",
     "exception": false,
     "start_time": "2020-10-31T11:47:21.638706",
     "status": "completed"
    },
    "tags": []
   },
   "outputs": [
    {
     "data": {
      "text/html": [
       "<div>\n",
       "<style scoped>\n",
       "    .dataframe tbody tr th:only-of-type {\n",
       "        vertical-align: middle;\n",
       "    }\n",
       "\n",
       "    .dataframe tbody tr th {\n",
       "        vertical-align: top;\n",
       "    }\n",
       "\n",
       "    .dataframe thead th {\n",
       "        text-align: right;\n",
       "    }\n",
       "</style>\n",
       "<table border=\"1\" class=\"dataframe\">\n",
       "  <thead>\n",
       "    <tr style=\"text-align: right;\">\n",
       "      <th></th>\n",
       "      <th>Company Name</th>\n",
       "      <th>Detail</th>\n",
       "      <th>Date</th>\n",
       "      <th>Year</th>\n",
       "      <th>Status Mission</th>\n",
       "    </tr>\n",
       "  </thead>\n",
       "  <tbody>\n",
       "    <tr>\n",
       "      <th>27</th>\n",
       "      <td>Virgin Orbit</td>\n",
       "      <td>LauncherOne | Demo Flight</td>\n",
       "      <td>2020-05-25</td>\n",
       "      <td>2020</td>\n",
       "      <td>Failure</td>\n",
       "    </tr>\n",
       "    <tr>\n",
       "      <th>91</th>\n",
       "      <td>Exos</td>\n",
       "      <td>SARGE | Launch 4</td>\n",
       "      <td>2019-10-26</td>\n",
       "      <td>2019</td>\n",
       "      <td>Failure</td>\n",
       "    </tr>\n",
       "    <tr>\n",
       "      <th>127</th>\n",
       "      <td>Exos</td>\n",
       "      <td>SARGE | Launch 3</td>\n",
       "      <td>2019-06-29</td>\n",
       "      <td>2019</td>\n",
       "      <td>Partial Failure</td>\n",
       "    </tr>\n",
       "    <tr>\n",
       "      <th>152</th>\n",
       "      <td>OneSpace</td>\n",
       "      <td>OS-M1 | Lingque-1B</td>\n",
       "      <td>2019-03-27</td>\n",
       "      <td>2019</td>\n",
       "      <td>Failure</td>\n",
       "    </tr>\n",
       "    <tr>\n",
       "      <th>157</th>\n",
       "      <td>Exos</td>\n",
       "      <td>SARGE | Launch 2</td>\n",
       "      <td>2019-03-02</td>\n",
       "      <td>2019</td>\n",
       "      <td>Partial Failure</td>\n",
       "    </tr>\n",
       "  </tbody>\n",
       "</table>\n",
       "</div>"
      ],
      "text/plain": [
       "     Company Name                     Detail       Date  Year   Status Mission\n",
       "27   Virgin Orbit  LauncherOne | Demo Flight 2020-05-25  2020          Failure\n",
       "91           Exos           SARGE | Launch 4 2019-10-26  2019          Failure\n",
       "127          Exos           SARGE | Launch 3 2019-06-29  2019  Partial Failure\n",
       "152      OneSpace         OS-M1 | Lingque-1B 2019-03-27  2019          Failure\n",
       "157          Exos           SARGE | Launch 2 2019-03-02  2019  Partial Failure"
      ]
     },
     "execution_count": 28,
     "metadata": {},
     "output_type": "execute_result"
    }
   ],
   "source": [
    "prev=[]\n",
    "\n",
    "for i in range(0,Space_data.shape[0]):\n",
    "    Company_ns=Space_data['Company Name'].iloc[i]\n",
    "    Date_ns=Space_data['Date'].iloc[i]\n",
    "    Status_ns=Space_data['Status Mission'].iloc[i]\n",
    "\n",
    "    if Status_ns!='Success':\n",
    "        one_first=0\n",
    "        for j in range(0,Space_data_first.shape[0]):\n",
    "            Company_fs=Space_data_first['Company Name'].iloc[j]\n",
    "            Status_fs=Space_data_first['Status Mission'].iloc[j]\n",
    "            Date_fs=Space_data_first['Date'].iloc[j]\n",
    "            if Company_ns==Company_fs:\n",
    "                one_first+=1\n",
    "                if Date_ns<Date_fs:\n",
    "                    prev.append(i)\n",
    "                break    \n",
    "        if one_first==0:\n",
    "            # it means that this company hasn't no Successful Mission\n",
    "            prev.append(i)\n",
    "\n",
    "fail_columns = ['Company Name','Detail','Date','Year','Status Mission']\n",
    "Space_data_fail_prev=Space_data.loc[prev,fail_columns]#.sort_values('Year').sort_values('Company Name')\n",
    "Space_data_fail_prev.head()"
   ]
  },
  {
   "cell_type": "code",
   "execution_count": 30,
   "metadata": {
    "execution": {
     "iopub.execute_input": "2020-10-31T11:47:22.909430Z",
     "iopub.status.busy": "2020-10-31T11:47:22.908223Z",
     "iopub.status.idle": "2020-10-31T11:47:23.272003Z",
     "shell.execute_reply": "2020-10-31T11:47:23.271419Z"
    },
    "papermill": {
     "duration": 0.421804,
     "end_time": "2020-10-31T11:47:23.272158",
     "exception": false,
     "start_time": "2020-10-31T11:47:22.850354",
     "status": "completed"
    },
    "tags": []
   },
   "outputs": [
    {
     "name": "stderr",
     "output_type": "stream",
     "text": [
      "No handles with labels found to put in legend.\n"
     ]
    },
    {
     "data": {
      "text/plain": [
       "<Figure size 432x288 with 0 Axes>"
      ]
     },
     "metadata": {},
     "output_type": "display_data"
    },
    {
     "data": {
      "image/png": "[encoded data removed]",
      "text/plain": [
       "<Figure size 1080x720 with 1 Axes>"
      ]
     },
     "metadata": {},
     "output_type": "display_data"
    }
   ],
   "source": [
    "#mask_status_s=Space_data['Status Mission']=='Success'\n",
    "#mask_status_f=Space_data['Status Mission']=='Failure'\n",
    "#mask_status_prf=Space_data['Status Mission']=='Prelaunch Failure'\n",
    "#mask_status_pf=Space_data['Status Mission']=='Partial Failure'\n",
    "\n",
    "plt.figure()\n",
    "plt.subplots(figsize=(15,10))\n",
    "plt.plot(Space_data_fail_prev['Date'][mask_status_s],Space_data_fail_prev['Company Name'][mask_status_s],'gd',Space_data_fail_prev['Date'][mask_status_f],Space_data_fail_prev['Company Name'][mask_status_f],'rd',Space_data_fail_prev['Date'][mask_status_prf|mask_status_pf],Space_data_fail_prev['Company Name'][mask_status_prf|mask_status_pf],'yd')\n",
    "plt.title(\"Failed missions prior to the first successful mission\")\n",
    "plt.xlabel(\"Year\")\n",
    "plt.ylabel(\"Company Name\")\n",
    "plt.legend(loc=\"best\");"
   ]
  },
  {
   "cell_type": "code",
   "execution_count": null,
   "metadata": {},
   "outputs": [],
   "source": []
  }
 ],
 "metadata": {
  "kernelspec": {
   "display_name": "Python 3",
   "language": "python",
   "name": "python3"
  },
  "language_info": {
   "codemirror_mode": {
    "name": "ipython",
    "version": 3
   },
   "file_extension": ".py",
   "mimetype": "text/x-python",
   "name": "python",
   "nbconvert_exporter": "python",
   "pygments_lexer": "ipython3",
   "version": "3.8.5"
  },
  "papermill": {
   "duration": 14.278516,
   "end_time": "2020-10-31T11:47:23.430599",
   "environment_variables": {},
   "exception": null,
   "input_path": "__notebook__.ipynb",
   "output_path": "__notebook__.ipynb",
   "parameters": {},
   "start_time": "2020-10-31T11:47:09.152083",
   "version": "2.1.0"
  }
 },
 "nbformat": 4,
 "nbformat_minor": 4
}
